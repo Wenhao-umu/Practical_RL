{
  "nbformat": 4,
  "nbformat_minor": 0,
  "metadata": {
    "colab": {
      "name": "Q-learning practise_1211.ipynb",
      "provenance": [],
      "collapsed_sections": [],
      "authorship_tag": "ABX9TyP95AzcI/gV52iph0jXsYzM",
      "include_colab_link": true
    },
    "kernelspec": {
      "name": "python3",
      "display_name": "Python 3"
    },
    "language_info": {
      "name": "python"
    }
  },
  "cells": [
    {
      "cell_type": "markdown",
      "metadata": {
        "id": "view-in-github",
        "colab_type": "text"
      },
      "source": [
        "<a href=\"https://colab.research.google.com/github/Wenhao-umu/Practical_RL/blob/master/Q_learning_practise_1211.ipynb\" target=\"_parent\"><img src=\"https://colab.research.google.com/assets/colab-badge.svg\" alt=\"Open In Colab\"/></a>"
      ]
    },
    {
      "cell_type": "code",
      "source": [
        "!pip install piglet"
      ],
      "metadata": {
        "colab": {
          "base_uri": "https://localhost:8080/"
        },
        "id": "rzRQPm6IlNzU",
        "outputId": "a406e160-0bed-41d3-f2cc-6bca845fa92d"
      },
      "execution_count": 9,
      "outputs": [
        {
          "output_type": "stream",
          "name": "stdout",
          "text": [
            "Collecting piglet\n",
            "  Downloading piglet-1.0.0-py2.py3-none-any.whl (2.2 kB)\n",
            "Collecting piglet-templates\n",
            "  Downloading piglet_templates-1.2.0-py3-none-any.whl (67 kB)\n",
            "\u001b[?25l\r\u001b[K     |████▉                           | 10 kB 24.0 MB/s eta 0:00:01\r\u001b[K     |█████████▊                      | 20 kB 9.4 MB/s eta 0:00:01\r\u001b[K     |██████████████▋                 | 30 kB 8.3 MB/s eta 0:00:01\r\u001b[K     |███████████████████▌            | 40 kB 7.8 MB/s eta 0:00:01\r\u001b[K     |████████████████████████▍       | 51 kB 4.1 MB/s eta 0:00:01\r\u001b[K     |█████████████████████████████▏  | 61 kB 4.4 MB/s eta 0:00:01\r\u001b[K     |████████████████████████████████| 67 kB 2.4 MB/s \n",
            "\u001b[?25hRequirement already satisfied: pyparsing in /usr/local/lib/python3.7/dist-packages (from piglet-templates->piglet) (3.0.6)\n",
            "Requirement already satisfied: astunparse in /usr/local/lib/python3.7/dist-packages (from piglet-templates->piglet) (1.6.3)\n",
            "Requirement already satisfied: markupsafe in /usr/local/lib/python3.7/dist-packages (from piglet-templates->piglet) (2.0.1)\n",
            "Requirement already satisfied: attrs in /usr/local/lib/python3.7/dist-packages (from piglet-templates->piglet) (21.2.0)\n",
            "Requirement already satisfied: wheel<1.0,>=0.23.0 in /usr/local/lib/python3.7/dist-packages (from astunparse->piglet-templates->piglet) (0.37.0)\n",
            "Requirement already satisfied: six<2.0,>=1.6.1 in /usr/local/lib/python3.7/dist-packages (from astunparse->piglet-templates->piglet) (1.15.0)\n",
            "Installing collected packages: piglet-templates, piglet\n",
            "Successfully installed piglet-1.0.0 piglet-templates-1.2.0\n"
          ]
        }
      ]
    },
    {
      "cell_type": "code",
      "source": [
        "# install required system dependencies\n",
        "!apt-get install -y xvfb x11-utils\n",
        "\n",
        "# install required python dependencies (might need to install additional gym extras depending)\n",
        "!pip install gym[box2d]==0.17.* pyvirtualdisplay==0.2.* PyOpenGL==3.1.* PyOpenGL-accelerate==3.1.*"
      ],
      "metadata": {
        "colab": {
          "base_uri": "https://localhost:8080/"
        },
        "id": "63jJiJxIF0Ba",
        "outputId": "28fffdf9-1e99-429a-a198-532dbf81d3c4"
      },
      "execution_count": 10,
      "outputs": [
        {
          "output_type": "stream",
          "name": "stdout",
          "text": [
            "Reading package lists... Done\n",
            "Building dependency tree       \n",
            "Reading state information... Done\n",
            "The following additional packages will be installed:\n",
            "  libxxf86dga1\n",
            "Suggested packages:\n",
            "  mesa-utils\n",
            "The following NEW packages will be installed:\n",
            "  libxxf86dga1 x11-utils xvfb\n",
            "0 upgraded, 3 newly installed, 0 to remove and 37 not upgraded.\n",
            "Need to get 994 kB of archives.\n",
            "After this operation, 2,981 kB of additional disk space will be used.\n",
            "Get:1 http://archive.ubuntu.com/ubuntu bionic/main amd64 libxxf86dga1 amd64 2:1.1.4-1 [13.7 kB]\n",
            "Get:2 http://archive.ubuntu.com/ubuntu bionic/main amd64 x11-utils amd64 7.7+3build1 [196 kB]\n",
            "Get:3 http://archive.ubuntu.com/ubuntu bionic-updates/universe amd64 xvfb amd64 2:1.19.6-1ubuntu4.9 [784 kB]\n",
            "Fetched 994 kB in 2s (473 kB/s)\n",
            "Selecting previously unselected package libxxf86dga1:amd64.\n",
            "(Reading database ... 155222 files and directories currently installed.)\n",
            "Preparing to unpack .../libxxf86dga1_2%3a1.1.4-1_amd64.deb ...\n",
            "Unpacking libxxf86dga1:amd64 (2:1.1.4-1) ...\n",
            "Selecting previously unselected package x11-utils.\n",
            "Preparing to unpack .../x11-utils_7.7+3build1_amd64.deb ...\n",
            "Unpacking x11-utils (7.7+3build1) ...\n",
            "Selecting previously unselected package xvfb.\n",
            "Preparing to unpack .../xvfb_2%3a1.19.6-1ubuntu4.9_amd64.deb ...\n",
            "Unpacking xvfb (2:1.19.6-1ubuntu4.9) ...\n",
            "Setting up xvfb (2:1.19.6-1ubuntu4.9) ...\n",
            "Setting up libxxf86dga1:amd64 (2:1.1.4-1) ...\n",
            "Setting up x11-utils (7.7+3build1) ...\n",
            "Processing triggers for man-db (2.8.3-2ubuntu0.1) ...\n",
            "Processing triggers for libc-bin (2.27-3ubuntu1.3) ...\n",
            "/sbin/ldconfig.real: /usr/local/lib/python3.7/dist-packages/ideep4py/lib/libmkldnn.so.0 is not a symbolic link\n",
            "\n",
            "Requirement already satisfied: gym[box2d]==0.17.* in /usr/local/lib/python3.7/dist-packages (0.17.3)\n",
            "Collecting pyvirtualdisplay==0.2.*\n",
            "  Downloading PyVirtualDisplay-0.2.5-py2.py3-none-any.whl (13 kB)\n",
            "Requirement already satisfied: PyOpenGL==3.1.* in /usr/local/lib/python3.7/dist-packages (3.1.5)\n",
            "Collecting PyOpenGL-accelerate==3.1.*\n",
            "  Downloading PyOpenGL-accelerate-3.1.5.tar.gz (538 kB)\n",
            "\u001b[K     |████████████████████████████████| 538 kB 4.3 MB/s \n",
            "\u001b[?25hCollecting EasyProcess\n",
            "  Downloading EasyProcess-0.3-py2.py3-none-any.whl (7.9 kB)\n",
            "Requirement already satisfied: scipy in /usr/local/lib/python3.7/dist-packages (from gym[box2d]==0.17.*) (1.4.1)\n",
            "Requirement already satisfied: numpy>=1.10.4 in /usr/local/lib/python3.7/dist-packages (from gym[box2d]==0.17.*) (1.19.5)\n",
            "Requirement already satisfied: pyglet<=1.5.0,>=1.4.0 in /usr/local/lib/python3.7/dist-packages (from gym[box2d]==0.17.*) (1.5.0)\n",
            "Requirement already satisfied: cloudpickle<1.7.0,>=1.2.0 in /usr/local/lib/python3.7/dist-packages (from gym[box2d]==0.17.*) (1.3.0)\n",
            "Collecting box2d-py~=2.3.5\n",
            "  Downloading box2d_py-2.3.8-cp37-cp37m-manylinux1_x86_64.whl (448 kB)\n",
            "\u001b[K     |████████████████████████████████| 448 kB 42.2 MB/s \n",
            "\u001b[?25hRequirement already satisfied: future in /usr/local/lib/python3.7/dist-packages (from pyglet<=1.5.0,>=1.4.0->gym[box2d]==0.17.*) (0.16.0)\n",
            "Building wheels for collected packages: PyOpenGL-accelerate\n",
            "  Building wheel for PyOpenGL-accelerate (setup.py) ... \u001b[?25l\u001b[?25hdone\n",
            "  Created wheel for PyOpenGL-accelerate: filename=PyOpenGL_accelerate-3.1.5-cp37-cp37m-linux_x86_64.whl size=1599539 sha256=402f0464640edfd2b139c145ddf40d9c37aaa33f9508d1843e32999821fd7c87\n",
            "  Stored in directory: /root/.cache/pip/wheels/1c/f5/6f/169afb3f2d476c5e807f8515b3c9bc9b819c3962316aa804eb\n",
            "Successfully built PyOpenGL-accelerate\n",
            "Installing collected packages: EasyProcess, box2d-py, pyvirtualdisplay, PyOpenGL-accelerate\n",
            "Successfully installed EasyProcess-0.3 PyOpenGL-accelerate-3.1.5 box2d-py-2.3.8 pyvirtualdisplay-0.2.5\n"
          ]
        }
      ]
    },
    {
      "cell_type": "code",
      "source": [
        "# !apt-get install -y xvfb python-opengl > /dev/null 2>&1\n",
        "# !pip install gym pyvirtualdisplay > /dev/null 2>&1\n",
        "import pyvirtualdisplay\n",
        "display = pyvirtualdisplay.Display(visible=False,\n",
        "                    size=(1400, 900))\n",
        "display.start()"
      ],
      "metadata": {
        "colab": {
          "base_uri": "https://localhost:8080/"
        },
        "id": "atQuubnktNd1",
        "outputId": "a39c766a-9695-4ec4-9319-480fb64ece8f"
      },
      "execution_count": 11,
      "outputs": [
        {
          "output_type": "execute_result",
          "data": {
            "text/plain": [
              "<Display cmd_param=['Xvfb', '-br', '-nolisten', 'tcp', '-screen', '0', '1400x900x24', ':1001'] cmd=['Xvfb', '-br', '-nolisten', 'tcp', '-screen', '0', '1400x900x24', ':1001'] oserror=None return_code=None stdout=\"None\" stderr=\"None\" timeout_happened=False>"
            ]
          },
          "metadata": {},
          "execution_count": 11
        }
      ]
    },
    {
      "cell_type": "code",
      "source": [
        "import gym \n",
        "from gym.wrappers import Monitor\n",
        "import numpy as np\n",
        "import matplotlib.pyplot as plt\n",
        "import glob\n",
        "import io\n",
        "import base64\n",
        "from IPython.display import HTML\n",
        "\n",
        "from IPython import display as ipythondisplay"
      ],
      "metadata": {
        "id": "d4eXKPiYlOFJ"
      },
      "execution_count": 12,
      "outputs": []
    },
    {
      "cell_type": "code",
      "source": [
        "import gym\n",
        "from gym import spaces\n",
        "\n",
        "import numpy as np\n",
        "import random\n",
        "from random import randint\n",
        "\n",
        "import matplotlib.pyplot as plt\n",
        "from IPython import display as ipythondisplay"
      ],
      "metadata": {
        "id": "jZDswj1a0hsi"
      },
      "execution_count": 13,
      "outputs": []
    },
    {
      "cell_type": "code",
      "source": [
        "env_name = \"CartPole-v1\"\n",
        "# env_name = \"MountainCar-v0\"\n",
        "# env_name = \"Pendulum-v0\"\n",
        "\n",
        "\n",
        "env = gym.make(env_name)\n",
        "\n",
        "env.reset()\n",
        "prev_screen = env.render(mode='rgb_array')\n",
        "plt.imshow(prev_screen)\n",
        "\n",
        "for i in range(50):\n",
        "  action = env.action_space.sample()\n",
        "  # action = 1 #ctrl+/\n",
        "  print(\"The selected action is: \",action)\n",
        "  obs, reward, done, info = env.step(action)\n",
        "  screen = env.render(mode='rgb_array')\n",
        "  \n",
        "  plt.imshow(screen)\n",
        "  ipythondisplay.clear_output(wait=True)\n",
        "  ipythondisplay.display(plt.gcf())\n",
        "\n",
        "  if done:\n",
        "    break\n",
        "    \n",
        "ipythondisplay.clear_output(wait=True)\n",
        "env.close()"
      ],
      "metadata": {
        "colab": {
          "base_uri": "https://localhost:8080/",
          "height": 269
        },
        "id": "e5gQzmVDExB2",
        "outputId": "6cc8e11f-1e12-4fcd-a220-a4cafb8de8dc"
      },
      "execution_count": 14,
      "outputs": [
        {
          "output_type": "display_data",
          "data": {
            "image/png": "[encoded data removed]",
            "text/plain": [
              "<Figure size 432x288 with 1 Axes>"
            ]
          },
          "metadata": {
            "needs_background": "light"
          }
        }
      ]
    },
    {
      "cell_type": "code",
      "source": [
        "class Agent:\n",
        "\n",
        "  def __init__(\n",
        "    self, lr: float, gamma: float, act_space: spaces.Discrete,\n",
        "    obs_space: spaces.Discrete, num_episodes: int, obs_space_len, action_space_len\n",
        "   ):\n",
        "\n",
        "    self.lr = lr  #learning rate\n",
        "    self.gamma = gamma\n",
        "    self.act_space = act_space\n",
        "    self.obs_space = obs_space\n",
        "    self.obs_space_len = obs_space_len\n",
        "    self.action_space_len = action_space_len\n",
        "    self.num_episodes = num_episodes\n",
        "    self.eps: Array = np.exp(-5*np.linspace(0, 1, num_episodes))\n",
        "    self.qtable = np.random.uniform(low=-2, high=0, size=(self.obs_space_len+[self.action_space_len])) #why size in this expression\n",
        "\n",
        "  def act(self, o: int, episode_i: int) -> int:\n",
        "    if random.uniform(1.0, 0.0) < self.eps[episode_i]:\n",
        "      return self.act_space.sample() \n",
        "    \n",
        "    return np.argmax(self.qtable[o])\n",
        "    \n",
        "  def update(self, o: int, a: int, r: float, o_prime: int) -> float:\n",
        "    old_o_a_value = self.qtable[o][a]\n",
        "    q_prime = np.max(self.qtable[o_prime])\n",
        "\n",
        "    td_target = r + self.gamma * q_prime\n",
        "    self.qtable[o][a] += self.lr * (td_target - old_o_a_value)\n",
        "\n",
        "    return self.qtable[o][a] - old_o_a_value\n",
        "\n",
        "\n",
        "\n",
        "\n",
        "\n",
        "\n"
      ],
      "metadata": {
        "id": "6Msg1gGv3zvH"
      },
      "execution_count": 20,
      "outputs": []
    },
    {
      "cell_type": "code",
      "source": [
        "def get_discrete_state(state, obs_space_len, bins):\n",
        "  stateIndex = []\n",
        "  for i in range(obs_space_len):\n",
        "    stateIndex.append(np.digitize(state[i], bins[i]) - 1) \n",
        "  return tuple(stateIndex)"
      ],
      "metadata": {
        "id": "zWeTTbSU1gdt"
      },
      "execution_count": 21,
      "outputs": []
    },
    {
      "cell_type": "code",
      "source": [
        "agent = Agent(lr=0.1, gamma=0.95, act_space=env.action_space, \n",
        "              obs_space=env.observation_space, num_episodes=10000,\n",
        "              obs_space_len=[20], action_space_len=2)\n",
        "print(agent.qtable.shape)\n"
      ],
      "metadata": {
        "colab": {
          "base_uri": "https://localhost:8080/"
        },
        "id": "yeyEUoEC1ej0",
        "outputId": "e249a69f-50c0-41be-9f05-1ccc9a09cff9"
      },
      "execution_count": 22,
      "outputs": [
        {
          "output_type": "stream",
          "name": "stdout",
          "text": [
            "(20, 2)\n"
          ]
        }
      ]
    },
    {
      "cell_type": "code",
      "source": [
        "import pdb\n",
        "random.seed(1234)\n",
        "DISPLAY_EVERY = 100\n",
        "if \"CartPole\" in env_name:\n",
        "   num_bins = 20\n",
        "   bins = [\n",
        "           np.linspace(-4.8, 4.8, num_bins),\n",
        "           np.linspace(-4, 4, num_bins),\n",
        "           np.linspace(-.418, .418, num_bins),\n",
        "           np.linspace(-4, 4, num_bins),\n",
        "   ]\n",
        "lr = 0.1\n",
        "gamma = 0.95\n",
        "num_episodes = 10000\n",
        "if \"CartPole\" in env_name:\n",
        "  obs_space_len = [num_bins+1] * len(env.observation_space.high)\n",
        "  action_space_len = env.action_space.n\n",
        "  agent = Agent(\n",
        "      lr=lr, gamma=gamma, act_space=env.action_space, obs_space=env.observation_space,\n",
        "      num_episodes=num_episodes, obs_space_len=obs_space_len, action_space_len=action_space_len\n",
        "  )\n",
        "  prev_screen = env.render(mode='rgb_array')\n",
        "  plt.imshow(prev_screen)\n",
        "else:\n",
        "  obs_space_len = [env.horizon+1]\n",
        "  action_space_len = 2\n",
        "  agent = Agent(\n",
        "      lr=lr, gamma=gamma, act_space=env.action_space, obs_space=env.observation_space,\n",
        "      num_episodes=num.episodes, obs_space_len=obs_space_len, action_space_len=action_space_len\n",
        "  )\n",
        "\n",
        "show_verbose = False\n",
        "# render_gym = False\n",
        "render_gym = True\n",
        "running_len = 5\n",
        "running_delta = []\n",
        "running_acc = []\n",
        "\n",
        "for episode_i in range(num_episodes):\n",
        "  step_counter = 1\n",
        "  done = False\n",
        "  if show_verbose:\n",
        "    print('starting episode {episode_i}...'.format(episode_i=episode_i))\n",
        "  delta_update = []\n",
        "  n_successes: int = 0\n",
        "  cumul_r: float = 0.0\n",
        "\n",
        "  o = env.reset()\n",
        "\n",
        "  if 'CartPole' in env_name:\n",
        "    o = get_discrete_state(o, obs_space_len=len(env.observation_space.high), bins=bins)\n",
        "  while not done:\n",
        "    a = agent.act(o = o, episode_i= episode_i)\n",
        "\n",
        "    o_prime, r, done, _ = env.step(action=a)\n",
        "\n",
        "    if \"CartPole\" in env_name:\n",
        "      o_prime = get_discrete_state(o_prime, len(env.observation_space.high), bins=bins)\n",
        "\n",
        "    delta_update.append(agent.update(o=o, a=a, r=r, o_prime=o_prime))\n",
        "\n",
        "    o = o_prime\n",
        "\n",
        "    cumul_r += r\n",
        "    n_successes += int(r>0.0)\n",
        "\n",
        "\n",
        "\n"
      ],
      "metadata": {
        "colab": {
          "base_uri": "https://localhost:8080/",
          "height": 269
        },
        "id": "yXVBdukj9Cb-",
        "outputId": "72a6bd9d-9440-4d9d-f761-32b1fe3978e7"
      },
      "execution_count": 26,
      "outputs": [
        {
          "output_type": "display_data",
          "data": {
            "image/png": "[encoded data removed]",
            "text/plain": [
              "<Figure size 432x288 with 1 Axes>"
            ]
          },
          "metadata": {
            "needs_background": "light"
          }
        }
      ]
    },
    {
      "cell_type": "code",
      "source": [
        ""
      ],
      "metadata": {
        "id": "GT7LTxYt7wQc"
      },
      "execution_count": null,
      "outputs": []
    },
    {
      "cell_type": "code",
      "source": [
        ""
      ],
      "metadata": {
        "id": "Yh94zGH07wTf"
      },
      "execution_count": null,
      "outputs": []
    },
    {
      "cell_type": "code",
      "source": [
        ""
      ],
      "metadata": {
        "id": "OuCocITV7wV9"
      },
      "execution_count": null,
      "outputs": []
    },
    {
      "cell_type": "code",
      "source": [
        ""
      ],
      "metadata": {
        "id": "9OYQEQWd7wYi"
      },
      "execution_count": null,
      "outputs": []
    },
    {
      "cell_type": "code",
      "source": [
        ""
      ],
      "metadata": {
        "id": "fxwvyvwg7wbM"
      },
      "execution_count": null,
      "outputs": []
    }
  ]
}